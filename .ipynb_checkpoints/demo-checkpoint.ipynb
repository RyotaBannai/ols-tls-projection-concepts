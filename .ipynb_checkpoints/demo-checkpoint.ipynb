{
 "cells": [
  {
   "cell_type": "code",
   "execution_count": null,
   "metadata": {
    "collapsed": true
   },
   "outputs": [],
   "source": [
    "%run settings.ipynb"
   ]
  },
  {
   "cell_type": "code",
   "execution_count": 1,
   "metadata": {},
   "outputs": [
    {
     "data": {
      "text/plain": [
       "(0.625, 8.875, 0.6904350320127273, 6.309564967987273)"
      ]
     },
     "execution_count": 1,
     "metadata": {},
     "output_type": "execute_result"
    }
   ],
   "source": [
    "import numpy as np\n",
    "import matplotlib\n",
    "import matplotlib.pyplot as plt\n",
    "plt.style.use('ggplot')\n",
    "\n",
    "fig, (ax1, ax2) = plt.subplots(ncols=2,figsize=(16,6))\n",
    "plt.xlim((0, 10))\n",
    "plt.ylim((0, 7))\n",
    "plt.tight_layout(w_pad=1.5)\n",
    "#red line\n",
    "points = np.array([[1,1], [9,5]])\n",
    "slope = (points[1,1] - points[0,1])/(points[1,0] - points[0,0])\n",
    "intercept = points[0,1]-slope*points[0,0]\n",
    "#data points\n",
    "xy = np.array([[2,2.5,4,5,6,7,7.5],\n",
    "               [1,3.5,4,1.5,3,6,3.5]]).T\n",
    "#calculate projection points\n",
    "y_fun = lambda x, s=slope, i=intercept: s*x +i\n",
    "def y_fun_tls (x, y, slope, intercept):\n",
    "    s = (-1./slope)\n",
    "    i = y - s*x\n",
    "    #solve linear equation: -ax+1=b\n",
    "    a = np.array([[-s, 1.], [-slope, 1.]])\n",
    "    b = np.array([i, intercept])\n",
    "    xy = np.linalg.solve(a, b)\n",
    "    return xy\n",
    "#preprocess data for plot\n",
    "ln = np.linspace(xy[:,0].min()-1, xy[:,0].max()+1, 10)\n",
    "line = y_fun(ln)\n",
    "y_ols_proj = [y_fun(x) for x in xy[:,0]]\n",
    "xy_tls_proj = np.array([y_fun_tls(x,y,slope,intercept) for x,y in xy])\n",
    "\n",
    "#plot\n",
    "for ax_ in (ax1, ax2):\n",
    "    ax_.plot(ln, line, c='r', alpha=.6)\n",
    "    ax_.scatter(xy[:,0], xy[:,1], s=70, alpha=.5, c='b')\n",
    "#projection points\n",
    "proj_prop = dict(c='g', s=50, alpha=.5)\n",
    "ax1.scatter(xy[:,0], y_ols_proj, **proj_prop)\n",
    "ax2.scatter(xy_tls_proj[:,0], xy_tls_proj[:,1], **proj_prop)\n",
    "#residual grey lines for ols and tls\n",
    "line_prop = dict(c='gray', alpha=.6, linewidth=3.)\n",
    "for x, y_start, y_end in zip(xy[:,0], xy[:,1], y_ols_proj):\n",
    "    ax1.plot(np.full(2,x), [y_start, y_end], **line_prop)\n",
    "for x_start, x_end, y_start, y_end in zip(xy[:,0], xy_tls_proj[:,0], xy[:,1], xy_tls_proj[:,1]):\n",
    "    ax2.plot([x_start, x_end], [y_start, y_end], **line_prop)\n",
    "\n",
    "for ax_, labelx, labely, title in zip([ax1, ax2], np.full(2,'X'), ['Y',''], ['OLS','TLS']):\n",
    "    ax_.set_xlabel(labelx)\n",
    "    ax_.set_ylabel(labely)\n",
    "    ax_.set_title(title)\n",
    "    \n",
    "plt.axis('equal')"
   ]
  },
  {
   "cell_type": "code",
   "execution_count": null,
   "metadata": {
    "collapsed": true
   },
   "outputs": [],
   "source": [
    "#facecolors='none', edgecolors='b', linewidth=2."
   ]
  },
  {
   "cell_type": "code",
   "execution_count": null,
   "metadata": {
    "collapsed": true
   },
   "outputs": [],
   "source": []
  }
 ],
 "metadata": {
  "hide_input": false,
  "kernelspec": {
   "display_name": "Python 3",
   "language": "python",
   "name": "python3"
  },
  "language_info": {
   "codemirror_mode": {
    "name": "ipython",
    "version": 3
   },
   "file_extension": ".py",
   "mimetype": "text/x-python",
   "name": "python",
   "nbconvert_exporter": "python",
   "pygments_lexer": "ipython3",
   "version": "3.5.6"
  },
  "toc": {
   "base_numbering": 1,
   "nav_menu": {},
   "number_sections": true,
   "sideBar": true,
   "skip_h1_title": false,
   "title_cell": "Table of Contents",
   "title_sidebar": "Contents",
   "toc_cell": false,
   "toc_position": {},
   "toc_section_display": true,
   "toc_window_display": false
  },
  "varInspector": {
   "cols": {
    "lenName": 16,
    "lenType": 16,
    "lenVar": 40
   },
   "kernels_config": {
    "python": {
     "delete_cmd_postfix": "",
     "delete_cmd_prefix": "del ",
     "library": "var_list.py",
     "varRefreshCmd": "print(var_dic_list())"
    },
    "r": {
     "delete_cmd_postfix": ") ",
     "delete_cmd_prefix": "rm(",
     "library": "var_list.r",
     "varRefreshCmd": "cat(var_dic_list()) "
    }
   },
   "types_to_exclude": [
    "module",
    "function",
    "builtin_function_or_method",
    "instance",
    "_Feature"
   ],
   "window_display": false
  }
 },
 "nbformat": 4,
 "nbformat_minor": 2
}
